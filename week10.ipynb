{
 "cells": [
  {
   "cell_type": "code",
   "execution_count": 1,
   "metadata": {},
   "outputs": [
    {
     "name": "stdout",
     "output_type": "stream",
     "text": [
      "Numbers? 2 5 50 10\n",
      "Max =  50\n"
     ]
    }
   ],
   "source": [
    "#실습 문제 2번\n",
    "li = input(\"Numbers? \")\n",
    "li = map(int, li.split())\n",
    "print(\"Max = \", max(li))"
   ]
  },
  {
   "cell_type": "code",
   "execution_count": 2,
   "metadata": {},
   "outputs": [
    {
     "name": "stdout",
     "output_type": "stream",
     "text": [
      "abc def\n",
      "efg bcd\n"
     ]
    }
   ],
   "source": [
    "#실습 문제 3번-암호화\n",
    "string = input()\n",
    "string2 = string.split(' ')\n",
    "string3 = reversed(string2)\n",
    "string4 = ' '.join(string3)    \n",
    "\n",
    "for s_string in string3:\n",
    "    print(s_string)\n",
    "\n",
    "\n",
    "result = \"\"\n",
    "for i in range(len(string4)):\n",
    "    char = string4[i]\n",
    "    if (char.isspace()):\n",
    "      result += \" \"\n",
    "    else:\n",
    "        if (char.isupper()):\n",
    "            result += chr((ord(char) + 1 - 65) % 26 + 65)\n",
    "        else:\n",
    "            result += chr((ord(char) + 1 - 97) % 26 + 97)\n",
    "        \n",
    "print(result)"
   ]
  },
  {
   "cell_type": "code",
   "execution_count": 3,
   "metadata": {},
   "outputs": [
    {
     "name": "stdout",
     "output_type": "stream",
     "text": [
      "efg bcd\n",
      "abc def\n"
     ]
    }
   ],
   "source": [
    "#실습 문제 3번-복호화\n",
    "string = input()\n",
    "string2 = string.split(' ')\n",
    "string3 = reversed(string2)\n",
    "string4 = ' '.join(string3)    \n",
    "\n",
    "for s_string in string3:\n",
    "    print(s_string)\n",
    "\n",
    "\n",
    "result = \"\"\n",
    "for i in range(len(string4)):\n",
    "    char = string4[i]\n",
    "    if (char.isspace()):\n",
    "      result += \" \"\n",
    "    else:\n",
    "        if (char.isupper()):\n",
    "            result += chr((ord(char) - 1 - 65) % 26 + 65)\n",
    "        else:\n",
    "            result += chr((ord(char) - 1 - 97) % 26 + 97)\n",
    "        \n",
    "print(result)"
   ]
  },
  {
   "cell_type": "code",
   "execution_count": null,
   "metadata": {},
   "outputs": [],
   "source": [
    "dict_list = []\n",
    "a=0\n",
    "my_dict = {}\n",
    "while a < 2 :\n",
    "    a = a + 1\n",
    "    name = input('이름 입력 : ')\n",
    "    num = int(input('전화번호 입력 : '))\n",
    "    my_dict[name] = num\n",
    "            \n",
    "dict_list.append(my_dict)\n",
    "print(\"당신이 만든 딕셔너리 리스트 :\")\n",
    "print(dict_list)\n",
    "b = 0\n",
    "b = int(input('1:전화번호찾기, 2:이름찾기 :'))\n",
    "print(b)\n",
    "if b==1:\n",
    "    name = input('이름: ')\n",
    "    for i in my_dict:\n",
    "        if (my_dict.get(name) == name):\n",
    "            print(num)\n",
    "elif b==2:\n",
    "    num = int(input('전화번호: '))\n",
    "    print(my_dict.get(num))"
   ]
  }
 ],
 "metadata": {
  "kernelspec": {
   "display_name": "Python 3",
   "language": "python",
   "name": "python3"
  },
  "language_info": {
   "codemirror_mode": {
    "name": "ipython",
    "version": 3
   },
   "file_extension": ".py",
   "mimetype": "text/x-python",
   "name": "python",
   "nbconvert_exporter": "python",
   "pygments_lexer": "ipython3",
   "version": "3.7.6"
  }
 },
 "nbformat": 4,
 "nbformat_minor": 4
}
