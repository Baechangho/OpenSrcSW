{
 "cells": [
  {
   "cell_type": "code",
   "execution_count": null,
   "metadata": {},
   "outputs": [],
   "source": [
    "import csv\n",
    "\n",
    "f = open('seoul.csv')\n",
    "data = csv.reader(f)\n",
    "next(data)\n",
    "add = 0\n",
    "result1 = []\n",
    "result2 = []\n",
    "result3 = 0\n",
    "i = 0\n",
    "for row in data:\n",
    "    result = float(row[3]) + float(row[4])\n",
    "    result1.append(result)\n",
    "    i = i + 1   \n",
    "\n",
    "j = 0\n",
    "for row in data:\n",
    "    if(j < 7):\n",
    "        result3 = result3 + result1[j]\n",
    "    elif(j >= 7,  j < 26):\n",
    "        result3  = result3 + result1[j] - result1[j-7]\n",
    "        result2.append(result3)\n",
    "    else:\n",
    "        continue    \n",
    "    j = j + 1\n",
    "\n",
    "\n",
    "print(result1)\n",
    "print(result2)\n",
    "print(result3)\n",
    "\n",
    "f.close()"
   ]
  }
 ],
 "metadata": {
  "kernelspec": {
   "display_name": "Python 3",
   "language": "python",
   "name": "python3"
  },
  "language_info": {
   "codemirror_mode": {
    "name": "ipython",
    "version": 3
   },
   "file_extension": ".py",
   "mimetype": "text/x-python",
   "name": "python",
   "nbconvert_exporter": "python",
   "pygments_lexer": "ipython3",
   "version": "3.7.6"
  }
 },
 "nbformat": 4,
 "nbformat_minor": 4
}
